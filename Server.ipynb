{
 "cells": [
  {
   "cell_type": "markdown",
   "metadata": {},
   "source": [
    "# SERVER\n"
   ]
  },
  {
   "cell_type": "code",
   "execution_count": 1,
   "metadata": {},
   "outputs": [
    {
     "name": "stdout",
     "output_type": "stream",
     "text": [
      "Server is waiting....\n",
      "Connected to IP address ('192.168.56.1', 58858)\n"
     ]
    }
   ],
   "source": [
    "import cv2\n",
    "import socket\n",
    "\n",
    "server_socket  = socket.socket(socket.AF_INET , socket.SOCK_STREAM)     #creating server socket\n",
    "\n",
    "IP = \"192.168.56.1\"\n",
    "PORT = 8888\n",
    "\n",
    "server_socket.bind((IP,PORT)) \n",
    "\n",
    "server_socket.listen()\n",
    "print(\"Server is waiting....\")\n",
    "\n",
    "client_socket, client_addr = server_socket.accept()\n",
    "print(\"Connected to IP address \"+str(client_addr))\n",
    "\n",
    "while True:\n",
    "    \n",
    "    file = open(\"IMAGE_SERVER.jpg\",\"wb\")         #blank img file\n",
    "    img_pixl = client_socket.recv(2048000)       #recieving pixel of img from client                                                       \n",
    "    \n",
    "    if img_pixl:                                 #if img_pixl contains data ,loop will run,full img \n",
    "                                                 #will be created , and video will be shown.\n",
    "                                                   \n",
    "            \n",
    "        file.write(img_pixl)                     #creating img in loop with those pixels\n",
    "        \n",
    "        photo = cv2.imread(\"IMAGE_SERVER.jpg\")   #reading the created image\n",
    "        cv2.imshow(\"Server\",photo)               #displaying the current image\n",
    "        if cv2.waitKey(1)==13:\n",
    "            break\n",
    "            \n",
    "    else:                                        #if img_pixl doesn't contain any data(=> terminal is\n",
    "                                                 #closed by the client ) \n",
    "        print(\"Client disconnected!!\")           \n",
    "        break                                    #closing server terminal\n",
    "            \n",
    "            \n",
    "cv2.destroyAllWindows()\n",
    "\n",
    "client_socket.close()\n",
    "\n",
    "file.close() "
   ]
  },
  {
   "cell_type": "code",
   "execution_count": null,
   "metadata": {},
   "outputs": [],
   "source": []
  },
  {
   "cell_type": "code",
   "execution_count": null,
   "metadata": {},
   "outputs": [],
   "source": []
  },
  {
   "cell_type": "code",
   "execution_count": null,
   "metadata": {},
   "outputs": [],
   "source": []
  }
 ],
 "metadata": {
  "kernelspec": {
   "display_name": "Python 3",
   "language": "python",
   "name": "python3"
  },
  "language_info": {
   "codemirror_mode": {
    "name": "ipython",
    "version": 3
   },
   "file_extension": ".py",
   "mimetype": "text/x-python",
   "name": "python",
   "nbconvert_exporter": "python",
   "pygments_lexer": "ipython3",
   "version": "3.8.8"
  }
 },
 "nbformat": 4,
 "nbformat_minor": 4
}
